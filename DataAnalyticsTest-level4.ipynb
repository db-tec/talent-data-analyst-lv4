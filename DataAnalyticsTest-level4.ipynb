{
 "cells": [
  {
   "cell_type": "markdown",
   "id": "9eec3119",
   "metadata": {},
   "source": [
    "# ST IT Cloud - Data and Analytics Test LV.4\n",
    "\n",
    "Esse teste deve avaliar alguns conceitos de big data e a qualidade técnica na manipulacão de dados, otimização de performance, trabalho com arquivos grandes e tratamento de qualidade.\n",
    "\n",
    "## Passo a passo\n",
    "\n",
    "-Disponibilizamos aqui 2 cases para serem desenvolvidos, leia os enunciados dos problemas, desenvolver os programas, utilizando a **stack definida durante o processo seletivo**, para entregar os dados de acordo com os requisitos descritos abaixo.\n",
    "\n",
    "**Faz parte dos critérios de avaliacão a pontualidade da entrega. Implemente até onde for possível dentro do prazo acordado.**\n",
    "\n",
    "**Os dados de pessoas foram gerados de forma aleatória, utilizando a biblioteca FakerJS, FakerJS-BR e Faker**\n",
    "\n",
    "LEMBRE-SE: A entrega deve conter TODOS os passos para o avaliador executar o programa (keep it simple).\n"
   ]
  },
  {
   "cell_type": "markdown",
   "id": "1eb61f06",
   "metadata": {},
   "source": [
    "# TESTE PRÁTICO"
   ]
  },
  {
   "cell_type": "markdown",
   "id": "8ed8c6a5",
   "metadata": {},
   "source": [
    "**Problema 1**: Você está recebendo o arquivo 'dados_cadastrais_fake.csv' que contem dados cadastrais de clientes, mas para que análises ou relatórios sejam feitos é necessário limpar e normalizar os dados. Além disso, existe uma coluna com o número de cpf e outra com cnpj, você precisará padronizar deixando apenas dígitos em formato string (sem caracteres especiais), implementar uma forma de verificar se tais documentos são válidos sendo que a informação deve se adicionada ao dataframe em outras duas novas colunas.\n",
    "\n",
    "Após a normalização, gere reports que respondam as seguintes perguntas:\n",
    "- Quantos clientes temos nessa base?\n",
    "- Qual a média de idade dos clientes?\n",
    "- Quantos clientes nessa base pertencem a cada estado?\n",
    "- Quantos CPFs válidos e inválidos foram encontrados?\n",
    "- Quantos CNPJs válidos e inválidos foram encontrados?\n",
    "\n",
    "Ao final gere um arquivo no formato csv e um outro arquivo no formato parquet chamado (problema1_normalizado), eles serão destinados para pessoas distintas.\n"
   ]
  },
  {
   "cell_type": "code",
   "execution_count": 27,
   "id": "3b1b6c2d",
   "metadata": {},
   "outputs": [],
   "source": [
    "#!pip install pandas\n",
    "#!pip install spark\n",
    "#!pip install pyspark\n",
    "#!pip install dask\n",
    "#!pip install pyarrow\n",
    "\n",
    "import sys\n",
    "import pandas as pd\n",
    "import pyspark.pandas\n",
    "from datetime import datetime, date, timedelta\n",
    "from pyspark.context import SparkContext\n",
    "from pyspark.sql import SparkSession\n",
    "from pyspark.sql.types import * \n",
    "from pyspark.sql.functions import *\n",
    "from pyspark.sql import functions as F\n"
   ]
  },
  {
   "cell_type": "code",
   "execution_count": 28,
   "id": "916df25a",
   "metadata": {},
   "outputs": [],
   "source": [
    "spark = SparkSession.\\\n",
    "        builder.\\\n",
    "        appName(\"pyspark-notebook\").getOrCreate()\n",
    "\n",
    "sc = spark.sparkContext"
   ]
  },
  {
   "cell_type": "code",
   "execution_count": 40,
   "id": "89cc799f",
   "metadata": {},
   "outputs": [
    {
     "name": "stdout",
     "output_type": "stream",
     "text": [
      "+------------------+-----+-------------------+----------------+--------------+------------------+\n",
      "|             nomes|idade|             cidade|          estado|           cpf|              cnpj|\n",
      "+------------------+-----+-------------------+----------------+--------------+------------------+\n",
      "|    Dennis Daniels|   31|         ACRELÂNDIA|              AC|   97566536800|    06589184909526|\n",
      "|       Leah Becker|   42|        ÁGUA BRANCA|              AL|425.263.807-07|25.673.336/2350-20|\n",
      "|        Sally Ford|   18|           ALVARÃES|              AM|   34647754103|    26543101702989|\n",
      "|    Colleen Duncan|   21|     SERRA DO NAVIO|              AP|252.531.560-03|19.062.080/5100-98|\n",
      "|   Jeff Stephenson|   73|             ABAÍRA|              BA|   49668886542|    97794530015384|\n",
      "|     Sydney Curtis|   85|            ABAIARA|              CE|506.202.907-49|29.476.298/0856-78|\n",
      "|    Kelly Matthews|   44|           Brasília|distrito federal|   39154836808|    24709301957761|\n",
      "|         Juan Ruiz|   39|     AFONSO CLÁUDIO|              ES|226.881.196-48|02.420.338/1479-00|\n",
      "|      Brian Thomas|   26|    ABADIA DE GOIÁS|              GO|   47475484084|    70723419110335|\n",
      "|        Sara Ayers|   62|         AÇAILÂNDIA|              MA|948.309.788-64|88.253.689/5483-82|\n",
      "|        Brady Cruz|   83|ABADIA DOS DOURADOS|              MG|   03438452456|    13118105069639|\n",
      "|   Samantha Wright|   32|         ÁGUA CLARA|              MS|222.036.540-90|04.310.317/3202-52|\n",
      "|    Richard Turner|   85|           ACORIZAL|              MT|   79059712285|    75595541223248|\n",
      "|    Ashley Sanders|   73|         ABAETETUBA|              PA|752.065.139-89|06.923.815/1651-28|\n",
      "|      Thomas Jones|   45|        ÁGUA BRANCA|              PB|   34565179806|    26574533273304|\n",
      "|        Ian Murray|   68|       ABREU E LIMA|              PE|152.777.170-99|85.202.887/3688-51|\n",
      "|     Janice Jensen|   79|              ACAUÃ|              PI|   45081993646|    89596067898809|\n",
      "|Jeffrey Cunningham|   48|             ABATIÁ|              PR|665.490.288-25|18.866.688/3442-42|\n",
      "|      Amanda Glass|   49|     ANGRA DOS REIS|              RJ|   86173803577|    87380936406714|\n",
      "|   Kaitlyn Johnson|   65|              ACARI|              RN|897.370.042-13|40.893.546/7414-94|\n",
      "+------------------+-----+-------------------+----------------+--------------+------------------+\n",
      "only showing top 20 rows\n",
      "\n"
     ]
    }
   ],
   "source": [
    "file = 'dados_cadastrais_fake.csv'\n",
    "df = spark.read.csv(file, sep=';', inferSchema=True, header=True)\n",
    "df.show()"
   ]
  },
  {
   "cell_type": "code",
   "execution_count": 41,
   "id": "2dfdd70b",
   "metadata": {},
   "outputs": [
    {
     "name": "stdout",
     "output_type": "stream",
     "text": [
      "+------------------+-----+-------------------+----------------+-----------+--------------+\n",
      "|             nomes|idade|             cidade|          estado|        cpf|          cnpj|\n",
      "+------------------+-----+-------------------+----------------+-----------+--------------+\n",
      "|    Dennis Daniels|   31|         ACRELÂNDIA|              AC|97566536800|06589184909526|\n",
      "|       Leah Becker|   42|        ÁGUA BRANCA|              AL|42526380707|25673336235020|\n",
      "|        Sally Ford|   18|           ALVARÃES|              AM|34647754103|26543101702989|\n",
      "|    Colleen Duncan|   21|     SERRA DO NAVIO|              AP|25253156003|19062080510098|\n",
      "|   Jeff Stephenson|   73|             ABAÍRA|              BA|49668886542|97794530015384|\n",
      "|     Sydney Curtis|   85|            ABAIARA|              CE|50620290749|29476298085678|\n",
      "|    Kelly Matthews|   44|           Brasília|distrito federal|39154836808|24709301957761|\n",
      "|         Juan Ruiz|   39|     AFONSO CLÁUDIO|              ES|22688119648|02420338147900|\n",
      "|      Brian Thomas|   26|    ABADIA DE GOIÁS|              GO|47475484084|70723419110335|\n",
      "|        Sara Ayers|   62|         AÇAILÂNDIA|              MA|94830978864|88253689548382|\n",
      "|        Brady Cruz|   83|ABADIA DOS DOURADOS|              MG|03438452456|13118105069639|\n",
      "|   Samantha Wright|   32|         ÁGUA CLARA|              MS|22203654090|04310317320252|\n",
      "|    Richard Turner|   85|           ACORIZAL|              MT|79059712285|75595541223248|\n",
      "|    Ashley Sanders|   73|         ABAETETUBA|              PA|75206513989|06923815165128|\n",
      "|      Thomas Jones|   45|        ÁGUA BRANCA|              PB|34565179806|26574533273304|\n",
      "|        Ian Murray|   68|       ABREU E LIMA|              PE|15277717099|85202887368851|\n",
      "|     Janice Jensen|   79|              ACAUÃ|              PI|45081993646|89596067898809|\n",
      "|Jeffrey Cunningham|   48|             ABATIÁ|              PR|66549028825|18866688344242|\n",
      "|      Amanda Glass|   49|     ANGRA DOS REIS|              RJ|86173803577|87380936406714|\n",
      "|   Kaitlyn Johnson|   65|              ACARI|              RN|89737004213|40893546741494|\n",
      "+------------------+-----+-------------------+----------------+-----------+--------------+\n",
      "only showing top 20 rows\n",
      "\n"
     ]
    }
   ],
   "source": [
    "# Normalização cpf e cnpj\n",
    "df = df.withColumn('cpf', translate('cpf', '.', ''))\n",
    "df = df.withColumn('cpf', translate('cpf','-',''))\n",
    "df = df.withColumn('cnpj', translate('cnpj','.',''))\n",
    "df = df.withColumn('cnpj', translate('cnpj','/',''))\n",
    "df = df.withColumn('cnpj', translate('cnpj','-',''))\n",
    "df.show()"
   ]
  },
  {
   "cell_type": "code",
   "execution_count": 42,
   "id": "0fbddc1e",
   "metadata": {},
   "outputs": [
    {
     "name": "stdout",
     "output_type": "stream",
     "text": [
      "cpf: 10000\n",
      "cnpj: 10000\n"
     ]
    }
   ],
   "source": [
    "# - Quantos clientes temos nessa base?\n",
    "countCpf = df.select(col('cpf')).distinct().count()\n",
    "countCnpj = df.select(col('cnpj')).distinct().count()\n",
    "print(f\"cpf: {countCpf}\")\n",
    "print(f\"cnpj: {countCnpj}\")"
   ]
  },
  {
   "cell_type": "code",
   "execution_count": 43,
   "id": "ce0bd710",
   "metadata": {},
   "outputs": [
    {
     "name": "stdout",
     "output_type": "stream",
     "text": [
      "53.7831\n"
     ]
    }
   ],
   "source": [
    "# - Qual a média de idade dos clientes?\n",
    "newDf = df.select(avg('idade').alias('avg_idade')).collect()\n",
    "\n",
    "print(newDf[0]['avg_idade'])"
   ]
  },
  {
   "cell_type": "code",
   "execution_count": 44,
   "id": "cfe1c79e",
   "metadata": {},
   "outputs": [
    {
     "name": "stdout",
     "output_type": "stream",
     "text": [
      "+------------+----------+\n",
      "|      estado|qtClientes|\n",
      "+------------+----------+\n",
      "|          SC|       370|\n",
      "|          RO|       370|\n",
      "|          PI|       370|\n",
      "|          AM|       371|\n",
      "|  são  paulo|         3|\n",
      "|          RR|       370|\n",
      "|MINAS GERAIs|        17|\n",
      "|          GO|       371|\n",
      "|          TO|       370|\n",
      "|          MT|       370|\n",
      "|          SP|       364|\n",
      "|          ES|       371|\n",
      "|          PB|       370|\n",
      "|          RS|       370|\n",
      "|          MS|       370|\n",
      "|          AL|       371|\n",
      "| MINAS GERAI|        13|\n",
      "|          MG|       340|\n",
      "|          PA|       370|\n",
      "|          BA|       371|\n",
      "+------------+----------+\n",
      "only showing top 20 rows\n",
      "\n"
     ]
    }
   ],
   "source": [
    "# - Quantos clientes nessa base pertencem a cada estado?\n",
    "clientesPorEstado = df. \\\n",
    "    groupBy(\"estado\"). \\\n",
    "    agg(count(col(\"cpf\")).alias('qtClientes')). \\\n",
    "    select(\"estado\", \"qtClientes\")\n",
    "clientesPorEstado.show()"
   ]
  },
  {
   "cell_type": "code",
   "execution_count": 46,
   "id": "2c8151ff",
   "metadata": {},
   "outputs": [
    {
     "name": "stdout",
     "output_type": "stream",
     "text": [
      "+----------+------+\n",
      "|qtClientes|estado|\n",
      "+----------+------+\n",
      "|370       |SC    |\n",
      "|370       |RO    |\n",
      "|370       |PI    |\n",
      "|371       |AM    |\n",
      "|370       |RR    |\n",
      "|371       |GO    |\n",
      "|370       |TO    |\n",
      "|370       |MT    |\n",
      "|370       |SP    |\n",
      "|371       |ES    |\n",
      "|370       |PB    |\n",
      "|370       |RS    |\n",
      "|370       |MS    |\n",
      "|371       |AL    |\n",
      "|370       |MG    |\n",
      "|370       |PA    |\n",
      "|371       |BA    |\n",
      "|370       |SE    |\n",
      "|370       |PE    |\n",
      "|371       |CE    |\n",
      "|370       |RN    |\n",
      "|370       |RJ    |\n",
      "|371       |MA    |\n",
      "|371       |AC    |\n",
      "|371       |DF    |\n",
      "|370       |PR    |\n",
      "|371       |AP    |\n",
      "+----------+------+\n",
      "\n"
     ]
    }
   ],
   "source": [
    "# - Quantos clientes nessa base pertencem a cada estado?\n",
    "def translate_state(state):\n",
    "    if len(state) > 2:\n",
    "        dict_states = {\n",
    "            \"MINAS GERAIs\": \"MG\",\n",
    "            \"MINAS GERAI\": \"MG\",\n",
    "            \"são  paulo\": \"SP\",\n",
    "            \"sao  paulo\": \"SP\",\n",
    "            \"distrito federal\": \"DF\",\n",
    "            \"rio de  janeiro \": \"RJ\",\n",
    "            \n",
    "        }\n",
    "        new_state = dict_states.get(state, state)\n",
    "    else:\n",
    "        new_state = state\n",
    "\n",
    "    return new_state\n",
    "\n",
    "\n",
    "translate_state_udf = F.udf(lambda z: translate_state(z), StringType())\n",
    "\n",
    "clientesPorEstado = df. \\\n",
    "    withColumn(\"estado\", translate_state_udf(col(\"estado\"))). \\\n",
    "    groupBy(\"estado\"). \\\n",
    "    agg(count(col(\"cpf\")).alias('qtClientes')). \\\n",
    "    select(\"qtClientes\", \"estado\")\n",
    "clientesPorEstado.show(50, False)\n",
    "\n"
   ]
  },
  {
   "cell_type": "code",
   "execution_count": 56,
   "id": "a9aa37b2",
   "metadata": {},
   "outputs": [
    {
     "name": "stdout",
     "output_type": "stream",
     "text": [
      "+------------------+-----+-------------------+------+-----------+--------------+\n",
      "|             nomes|idade|             cidade|estado|        cpf|          cnpj|\n",
      "+------------------+-----+-------------------+------+-----------+--------------+\n",
      "|    Dennis Daniels|   31|         ACRELÂNDIA|    AC|97566536800|06589184909526|\n",
      "|       Leah Becker|   42|        ÁGUA BRANCA|    AL|42526380707|25673336235020|\n",
      "|        Sally Ford|   18|           ALVARÃES|    AM|34647754103|26543101702989|\n",
      "|    Colleen Duncan|   21|     SERRA DO NAVIO|    AP|25253156003|19062080510098|\n",
      "|   Jeff Stephenson|   73|             ABAÍRA|    BA|49668886542|97794530015384|\n",
      "|     Sydney Curtis|   85|            ABAIARA|    CE|50620290749|29476298085678|\n",
      "|    Kelly Matthews|   44|           Brasília|    DF|39154836808|24709301957761|\n",
      "|         Juan Ruiz|   39|     AFONSO CLÁUDIO|    ES|22688119648|02420338147900|\n",
      "|      Brian Thomas|   26|    ABADIA DE GOIÁS|    GO|47475484084|70723419110335|\n",
      "|        Sara Ayers|   62|         AÇAILÂNDIA|    MA|94830978864|88253689548382|\n",
      "|        Brady Cruz|   83|ABADIA DOS DOURADOS|    MG|03438452456|13118105069639|\n",
      "|   Samantha Wright|   32|         ÁGUA CLARA|    MS|22203654090|04310317320252|\n",
      "|    Richard Turner|   85|           ACORIZAL|    MT|79059712285|75595541223248|\n",
      "|    Ashley Sanders|   73|         ABAETETUBA|    PA|75206513989|06923815165128|\n",
      "|      Thomas Jones|   45|        ÁGUA BRANCA|    PB|34565179806|26574533273304|\n",
      "|        Ian Murray|   68|       ABREU E LIMA|    PE|15277717099|85202887368851|\n",
      "|     Janice Jensen|   79|              ACAUÃ|    PI|45081993646|89596067898809|\n",
      "|Jeffrey Cunningham|   48|             ABATIÁ|    PR|66549028825|18866688344242|\n",
      "|      Amanda Glass|   49|     ANGRA DOS REIS|    RJ|86173803577|87380936406714|\n",
      "|   Kaitlyn Johnson|   65|              ACARI|    RN|89737004213|40893546741494|\n",
      "+------------------+-----+-------------------+------+-----------+--------------+\n",
      "only showing top 20 rows\n",
      "\n"
     ]
    }
   ],
   "source": [
    "# Normalização estado\n",
    "df = df.withColumn(\"estado\", translate_state_udf(col(\"estado\")))\n",
    "df.show()"
   ]
  },
  {
   "cell_type": "code",
   "execution_count": 57,
   "id": "39a80b41",
   "metadata": {},
   "outputs": [
    {
     "name": "stdout",
     "output_type": "stream",
     "text": [
      "True\n",
      "True\n"
     ]
    }
   ],
   "source": [
    "\n",
    "# https://dicasdeprogramacao.com.br/algoritmo-para-validar-cpf/\n",
    "\n",
    "def valida_cpf(cpf):\n",
    "    ver = 0\n",
    "    for i in range(0,9):\n",
    "        ver = ver + (int(cpf[i])*(10-i))\n",
    "\n",
    "    resto = (ver*10)%11\n",
    "    if resto == 10:  resto = 0\n",
    "\n",
    "    if resto != int(cpf[9]): return False\n",
    "\n",
    "    ver = 0\n",
    "    for i in range(0,10):\n",
    "        ver = ver + (int(cpf[i])*(11-i))\n",
    "    \n",
    "    resto = (ver*10)%11\n",
    "    if resto == 10:  resto = 0\n",
    "\n",
    "    if resto != int(cpf[10]): return False\n",
    "\n",
    "    return True\n",
    "\n",
    "# Testando cpf\n",
    "print(valida_cpf(\"28180540871\"))\n",
    "\n",
    "# https://www.macoratti.net/alg_cnpj.htm\n",
    "\n",
    "def calc_resto(val):\n",
    "    resto = val%11\n",
    "    if resto < 2: \n",
    "        return 0\n",
    "    else: \n",
    "        return 11-resto\n",
    "    \n",
    "\n",
    "def valida_cnpj(cnpj):\n",
    "    list = [5, 4, 3, 2, 9, 8, 7, 6, 5, 4, 3, 2]\n",
    "    ver = 0\n",
    "    \n",
    "    for i in range(0, len(list)):\n",
    "        ver = ver + (int(cnpj[i]) * list[i]) \n",
    "        \n",
    "    resto = calc_resto(ver)\n",
    "    \n",
    "    if resto != int(cnpj[12]): return False\n",
    "\n",
    "    list.insert(0,6)\n",
    "    ver = 0\n",
    "    for i in range(0, len(list)):\n",
    "        ver = ver + (int(cnpj[i]) * list[i])\n",
    "    resto = calc_resto(ver)\n",
    "    if resto != int(cnpj[13]): return False\n",
    "    \n",
    "    return True\n",
    "\n",
    "print(valida_cnpj(\"11222333000181\"))"
   ]
  },
  {
   "cell_type": "code",
   "execution_count": 58,
   "id": "9ef6c2e1",
   "metadata": {},
   "outputs": [
    {
     "name": "stdout",
     "output_type": "stream",
     "text": [
      "Cpfs Validos: 10000\n",
      "Cpfs Invalidos: 0\n"
     ]
    }
   ],
   "source": [
    "# - Quantos CPFs válidos e inválidos foram encontrados?\n",
    "valida_udf = F.udf(lambda z: valida_cpf(z),StringType())\n",
    "\n",
    "df_com_cpf = df.select(col(\"cpf\"), valida_udf(col(\"cpf\")).alias(\"cpf_valido\") )\n",
    "qt_valido = df_com_cpf.where(col('cpf_valido') == True).count()\n",
    "qt_invalido = df_com_cpf.where(col('cpf_valido') == False).count()\n",
    "print(f\"Cpfs Validos: {qt_valido}\")\n",
    "print(f\"Cpfs Invalidos: {qt_invalido}\")"
   ]
  },
  {
   "cell_type": "code",
   "execution_count": 59,
   "id": "420e7f48",
   "metadata": {},
   "outputs": [
    {
     "name": "stdout",
     "output_type": "stream",
     "text": [
      "Cnpjs Validos: 10000\n",
      "Cnpjs Invalidos: 0\n"
     ]
    }
   ],
   "source": [
    "# - Quantos CNPJs válidos e inválidos foram encontrados?\n",
    "valida_udf = F.udf(lambda z: valida_cnpj(z),StringType())\n",
    "\n",
    "df_com_cnpj = df.select(col(\"cnpj\"), valida_udf(col(\"cnpj\")).alias(\"cnpj_valido\") )\n",
    "qt_valido = df_com_cnpj.where(col('cnpj_valido') == True).count()\n",
    "qt_invalido = df_com_cnpj.where(col('cnpj_valido') == False).count()\n",
    "print(f\"Cnpjs Validos: {qt_valido}\")\n",
    "print(f\"Cnpjs Invalidos: {qt_invalido}\")"
   ]
  },
  {
   "cell_type": "markdown",
   "id": "a2da9c40",
   "metadata": {},
   "source": [
    "**Problema 2**: Você deverá implementar um programa, para ler, tratar e particionar os dados.\n",
    "\n",
    "O arquivo fonte está disponível em `https://st-it-cloud-public.s3.amazonaws.com/people-v2_1E6.csv.gz`\n",
    "\n",
    "### Data Quality\n",
    "\n",
    "- Higienizar e homogenizar o formato da coluna `document`\n",
    "- Detectar através da coluna `document` se o registro é de uma Pessoa Física ou Pessoa Jurídica, adicionando uma coluna com essa informação\n",
    "- Higienizar e homogenizar o formato da coluna `birthDate`\n",
    "- Existem duas colunas nesse dataset que em alguns registros estão trocadas. Quais são essas colunas? \n",
    "- Corrigir os dados com as colunas trocadas\n",
    "- Além desses pontos, existem outras tratamentos para homogenizar esse dataset. Aplique todos que conseguir.\n",
    "\n",
    "### Agregação dos dados\n",
    "\n",
    "- Quais são as 5 PF que mais gastaram (`totalSpent`)? \n",
    "- Qual é o valor de gasto médio por estado (`state`)?\n",
    "- Qual é o valor de gasto médio por `jobArea`?\n",
    "- Qual é a PF que gastou menos (`totalSpent`)?\n",
    "- Quantos nomes e documentos repetidos existem nesse dataset?\n",
    "- Quantas linhas existem nesse dataset?\n",
    "\n",
    "### Particionamento de dados tratados com as regras descritas em `DATA QUALITY`\n",
    "\n",
    "- Particionar em arquivos PARQUET por estado (`state`)\n",
    "- Particionar em arquivos CSV por ano/mes/dia de nascimento (`birthDate`)"
   ]
  },
  {
   "cell_type": "code",
   "execution_count": 62,
   "id": "2277f816",
   "metadata": {},
   "outputs": [
    {
     "name": "stderr",
     "output_type": "stream",
     "text": [
      "[Stage 141:====>                                                  (1 + 11) / 12]\r"
     ]
    },
    {
     "name": "stdout",
     "output_type": "stream",
     "text": [
      "+------------------+--------------------+--------------------+-------------------+------------+------------------+----------------+--------------------+------------------+----------+\n",
      "|          document|                name|                 job|            jobArea|     jobType|       phoneNumber|       birthDate|                city|             state|totalSpent|\n",
      "+------------------+--------------------+--------------------+-------------------+------------+------------------+----------------+--------------------+------------------+----------+\n",
      "|       76684148787|     Charlleny Braga|Oficial Criativo ...|       Configuração|Estrategista|    (62) 4216-9799|      20-05-1972|   Município de Iara|             Goiás|     913.8|\n",
      "|       85704855733|      Newton Saraiva|Administrador Com...|Prestação de contas| Facilitador|        Aplicações|     10-Jun-1982|Município de Neid...|                RR|     57.26|\n",
      "|    15664328373377|Dr. Sr. Solange M...|Designer Identida...|           Métricas|        null|+55 (95) 7143-3307|      05/16/1968|  Município de Santo|                RO|    660.71|\n",
      "|02.328.238/0877-86| Celina Carvalho Jr.|                null|          Qualidade|     Ligação|+55 (58) 4136-5577|       19810417,|       Reis do Norte|                RO|    542.51|\n",
      "|    30073687408740|      Aurilo Martins|Especialista Para...|           Programa|   Executivo|   (96) 47498-7325|      04/07/1980|Município de Amin...|                RO|    104.33|\n",
      "|       77145788233|Sr. Sávio Albuque...|Estrategista Bran...|           Resposta|  Planejador|+55 (06) 0512-5291|       19830618,| Município de Balmes|           Sergipe|    769.26|\n",
      "|       75752983045|Sr. Everaldo Sara...|Técnico Táticas P...|          Marketing|     Diretor|   (33) 78784-4156|     27-Oct-1980|    Nova Olga do Sul|      Minas Gerais|     575.1|\n",
      "|       88363035521|     Martina Moreira|Associado Contas ...|          Marketing|    Designer|+55 (30) 1195-8461|      09/08/1978|Reis de Nossa Sen...|                BA|    381.15|\n",
      "|       46182752785|Benedikt-Jan Pereira|Associado Contas ...|             Contas|     Gerente|+55 (36) 8023-5165|       19771120,|         Melo do Sul|        Pernambuco|    496.97|\n",
      "|    151.113.814-90|   Izamar Melo Filho|Designer Configur...|           Mercados|Especialista|   (37) 02302-7101|      19-01-1987|                null|Mato Grosso do Sul|    400.18|\n",
      "|       96857779341|     Débora Oliveira|Associado Seguran...|      Implementação|     Oficial|   (02) 63755-0226|Thu, Jan.30.1975|       Balmes do Sul|                SP|    473.01|\n",
      "|       58412777743|Sra. Lhirton Bati...|Produtor Intranet...|       Configuração|   Arquiteto|   (33) 70042-1213|     May/12/1985|      Batista do Sul|                PA|    300.22|\n",
      "|    43256426510740| Sra. Rosildo Santos|Desenvolvedor Fun...|         Integração|  Engenheiro|    (12) 3014-4120|       19801214,|                null|              Pará|    658.82|\n",
      "|    232.852.626-80|    Dov Carvalho Jr.|Administrador Pes...|           Resposta|    Analista|   (65) 37328-4182|     Aug/02/1989|      Nova Elisabete|         Tocantins|    795.89|\n",
      "|    23487182365693|Edith Albuquerque...|Diretor Interaçõe...|           Garantia|Estrategista|+55 (67) 9793-9050|     Dec/02/1986|                null|              Pará|    286.44|\n",
      "|       15174710520|Deilson Santos Filho|Estrategista Qual...|           Garantia|    Produtor|    (70) 7104-0331|      08/18/1963|       Nova Michelle|           Sergipe|    249.36|\n",
      "|       04556513537|       Viviana Braga|                null|          Diretivas|   Associado|   (10) 11373-1986|       19820810,|                null|              Acre|    920.21|\n",
      "|       67445640053|      Dione Oliveira|Facilitador Soluç...|Prestação de contas|        null|   (67) 75494-6612|     19-Apr-1987|      Pereira do Sul|           Sergipe|    768.23|\n",
      "|       74854451114|          Kauy Filho|Supervisor Qualid...|         Otimização|        null|    (07) 8716-5981|     Dec/07/1978|Nova Evany de Nos...|                PE|    393.67|\n",
      "|13.243.665/8571-33|  Dr. Valdete Franco|                null|         Integração|        null|+55 (21) 6949-7240|      21-03-1972|Grande Jeferson d...|         Tocantins|    773.84|\n",
      "+------------------+--------------------+--------------------+-------------------+------------+------------------+----------------+--------------------+------------------+----------+\n",
      "only showing top 20 rows\n",
      "\n"
     ]
    },
    {
     "name": "stderr",
     "output_type": "stream",
     "text": [
      "                                                                                \r"
     ]
    }
   ],
   "source": [
    "file = 'people-v2_1E6.csv'\n",
    "df = spark.read.csv(file, sep=';', inferSchema=True, header=True)\n",
    "df.show()"
   ]
  },
  {
   "cell_type": "code",
   "execution_count": 74,
   "id": "54e999a6",
   "metadata": {},
   "outputs": [],
   "source": [
    "# functions to use as udf later\n",
    "\n",
    "def switch_person(doc):\n",
    "    if len(doc) == 11:\n",
    "        return \"CPF\"\n",
    "    elif len(doc) == 14:\n",
    "        return \"CNPJ\"\n",
    "    else:\n",
    "        return \"INVALIDO\"\n",
    "\n",
    "\n",
    "def translate_birth_date(birthDate):\n",
    "    ambiguous = False\n",
    "    switch_day_mon = False\n",
    "    res = birthDate\n",
    "    split = []\n",
    "    if '/' in birthDate:\n",
    "        split = birthDate.split('/')\n",
    "        ambiguous = True\n",
    "\n",
    "    if '-' in birthDate:\n",
    "        split = birthDate.split('-')\n",
    "\n",
    "    elif '.' in birthDate:\n",
    "        split = birthDate.split('.')\n",
    "        split[0] = split[0].split(' ')[1]\n",
    "        switch_day_mon = True\n",
    "\n",
    "    elif ',' in birthDate:\n",
    "        split = [birthDate[6:8], birthDate[4:6], birthDate[0:4]]\n",
    "\n",
    "    months = ['Jan', 'Feb', 'Mar', 'Apr', 'May', 'Jun',\n",
    "              'Jul', 'Aug', 'Sep', 'Oct', 'Nov', 'Dec']\n",
    "    if not split[1].isnumeric():\n",
    "        split[1] = str(months.index(split[1]) + 1)\n",
    "\n",
    "    elif not split[0].isnumeric():\n",
    "        split[0] = str(months.index(split[0]) + 1)\n",
    "        switch_day_mon = True\n",
    "\n",
    "    if len(split[0]) == 1:\n",
    "        split[0] = '0' + split[0]\n",
    "    if len(split[1]) == 1:\n",
    "        split[1] = '0' + split[1]\n",
    "    if int(split[1]) > 12 or switch_day_mon:\n",
    "        month = split[0]\n",
    "        split[0] = split[1]\n",
    "        split[1] = month\n",
    "        ambiguous = False\n",
    "\n",
    "    res = '/'.join(split)\n",
    "\n",
    "    if ambiguous:\n",
    "        return res + '-amb' # não sei se os primeiros 2 digitos se trata de mes ou dia\n",
    "        #return res\n",
    "    else:\n",
    "        return res\n",
    "\n",
    "\n",
    "def translate_state(state):\n",
    "    if len(state) > 2:\n",
    "        dict_states = {\n",
    "            \"Acre\": \"AC\",\n",
    "            \"Alagoas\": \"AL\",\n",
    "            \"Amapá\": \"AP\",\n",
    "            \"Amazonas\": \"AM\",\n",
    "            \"Bahia\": \"BA\",\n",
    "            \"Ceará\": \"CE\",\n",
    "            \"Distrito Federal\": \"DF\",\n",
    "            \"Espírito Santo\": \"ES\",\n",
    "            \"Goiás\": \"GO\",\n",
    "            \"Maranhão\": \"MA\",\n",
    "            \"Mato Grosso\": \"MT\",\n",
    "            \"Mato Grosso do Sul\": \"MS\",\n",
    "            \"Minas Gerais\": \"MG\",\n",
    "            \"Paraná\": \"PR\",\n",
    "            \"Paraíba\": \"PB\",\n",
    "            \"Pará\": \"PA\",\n",
    "            \"Pernambuco\": \"PE\",\n",
    "            \"Piauí\": \"PI\",\n",
    "            \"Rio Grande do Norte\": \"RN\",\n",
    "            \"Rio Grande do Sul\": \"RS\",\n",
    "            \"Rio de Janeiro\": \"RJ\",\n",
    "            \"Rondônia\": \"RO\",\n",
    "            \"Roraima\": \"RR\",\n",
    "            \"Santa Catarina\": \"SC\",\n",
    "            \"Sergipe\": \"SE\",\n",
    "            \"São Paulo\": \"SP\",\n",
    "            \"Tocantins\": \"TO\",\n",
    "        }\n",
    "        new_state = dict_states.get(state, state)\n",
    "    else:\n",
    "        new_state = state\n",
    "\n",
    "    return new_state\n"
   ]
  },
  {
   "cell_type": "code",
   "execution_count": 75,
   "id": "f558ab6c",
   "metadata": {},
   "outputs": [
    {
     "name": "stdout",
     "output_type": "stream",
     "text": [
      "####################### CPF or CNPJ ###############################\n",
      "CPF 76684148787\n",
      "CPF 85704855733\n",
      "CNPJ 15664328373377\n",
      "CNPJ 02328238087786\n",
      "CNPJ 30073687408740\n",
      "CPF 77145788233\n",
      "CPF 75752983045\n",
      "####################### NORMALIZACAO DATA ############################\n",
      "20/05/1972 20-05-1972\n",
      "10/06/1982 10-Jun-1982\n",
      "16/05/1968 05/16/1968\n",
      "17/04/1981 19810417,\n",
      "04/07/1980-amb 04/07/1980\n",
      "18/06/1983 19830618,\n",
      "27/10/1980 27-Oct-1980\n",
      "09/08/1978-amb 09/08/1978\n",
      "20/11/1977 19771120,\n",
      "19/01/1987 19-01-1987\n",
      "30/01/1975 Thu, Jan.30.1975\n",
      "12/05/1985 May/12/1985\n",
      "14/12/1980 19801214,\n",
      "02/08/1989 Aug/02/1989\n",
      "02/12/1986 Dec/02/1986\n",
      "18/08/1963 08/18/1963\n",
      "19/04/1987 19-Apr-1987\n",
      "07/12/1978 Dec/07/1978\n",
      "21/03/1972 21-03-1972\n"
     ]
    }
   ],
   "source": [
    "# udf functions tests\n",
    "# switch_person tests:\n",
    "print(\"####################### CPF or CNPJ ###############################\")\n",
    "print(switch_person(\"76684148787\"), \"76684148787\")\n",
    "print(switch_person(\"85704855733\"), \"85704855733\")\n",
    "print(switch_person(\"15664328373377\"), \"15664328373377\")\n",
    "print(switch_person(\"02328238087786\"), \"02328238087786\")\n",
    "print(switch_person(\"30073687408740\"), \"30073687408740\")\n",
    "print(switch_person(\"77145788233\"), \"77145788233\")\n",
    "print(switch_person(\"75752983045\"), \"75752983045\")\n",
    "\n",
    "# translate_birth_date tests:\n",
    "print(\"####################### NORMALIZACAO DATA ############################\")\n",
    "print(translate_birth_date('20-05-1972'), '20-05-1972')\n",
    "print(translate_birth_date('10-Jun-1982'), '10-Jun-1982')\n",
    "print(translate_birth_date('05/16/1968'), '05/16/1968')\n",
    "print(translate_birth_date('19810417,'), '19810417,')\n",
    "print(translate_birth_date('04/07/1980'), '04/07/1980')\n",
    "print(translate_birth_date('19830618,'), '19830618,')\n",
    "print(translate_birth_date('27-Oct-1980'), '27-Oct-1980')\n",
    "print(translate_birth_date('09/08/1978'), '09/08/1978')\n",
    "print(translate_birth_date('19771120,'), '19771120,')\n",
    "print(translate_birth_date('19-01-1987'), '19-01-1987')\n",
    "print(translate_birth_date('Thu, Jan.30.1975'), 'Thu, Jan.30.1975')\n",
    "print(translate_birth_date('May/12/1985'), 'May/12/1985')\n",
    "print(translate_birth_date('19801214,'), '19801214,')\n",
    "print(translate_birth_date('Aug/02/1989'), 'Aug/02/1989')\n",
    "print(translate_birth_date('Dec/02/1986'), 'Dec/02/1986')\n",
    "print(translate_birth_date('08/18/1963'), '08/18/1963')\n",
    "print(translate_birth_date('19-Apr-1987'), '19-Apr-1987')\n",
    "print(translate_birth_date('Dec/07/1978'), 'Dec/07/1978')\n",
    "print(translate_birth_date('21-03-1972'), '21-03-1972')"
   ]
  },
  {
   "cell_type": "code",
   "execution_count": 76,
   "id": "ef7e721c",
   "metadata": {},
   "outputs": [
    {
     "name": "stderr",
     "output_type": "stream",
     "text": [
      "[Stage 184:============================>                           (6 + 6) / 12]\r"
     ]
    },
    {
     "name": "stdout",
     "output_type": "stream",
     "text": [
      "1000000 49991 49836 2484\n"
     ]
    },
    {
     "name": "stderr",
     "output_type": "stream",
     "text": [
      "                                                                                \r"
     ]
    }
   ],
   "source": [
    "# Data Quality\n",
    "\n",
    "switch_udf = F.udf(lambda z: switch_person(z),StringType())\n",
    "\n",
    "# - Higienizar e homogenizar o formato da coluna `document`\n",
    "df = df.withColumn('document', translate('document','.','')). \\\n",
    "    withColumn('document', translate('document','/','')). \\\n",
    "    withColumn('document', translate('document','-',''))\n",
    "\n",
    "# - Detectar através da coluna `document` se o registro é de uma Pessoa Física ou Pessoa Jurídica, adicionando uma coluna com essa informação\n",
    "df = df.withColumn(\"type_person\", switch_udf(col(\"document\")))\n",
    "\n",
    "# - Existem duas colunas nesse dataset que em alguns registros estão trocadas. Quais são essas colunas?\n",
    "# - Corrigir os dados com as colunas trocadas\n",
    "# ESTAS COLUNAS NÃO FORAM TROCADAS POR HAVER POUCA CONSISTÊNCIA NOS DADOS, ONDE HÁ MUITOS QUE SIMPLESMENTE ESTÃO COM NÚMEROS DE TELEFONE EM AMBOS OS CAMPOS\n",
    "# E É IMPRUDENTE INFERIR QUE OS DADOS FICARÃO CORRETOS CASO SEJAM TROCADOS\n",
    "\n",
    "print(\n",
    "    df.count() , \\\n",
    "    df. \\\n",
    "    filter(col(\"jobArea\").contains('(')). \\\n",
    "    count(),\n",
    "    df. \\\n",
    "    filter(~col(\"phoneNumber\").contains('(')). \\\n",
    "    count(),\n",
    "    df. \\\n",
    "    filter(col(\"jobArea\").contains('(')). \\\n",
    "    filter(~col(\"phoneNumber\").contains('(')). \\\n",
    "    count()\n",
    ")\n",
    "\n",
    "\n",
    "\n"
   ]
  },
  {
   "cell_type": "code",
   "execution_count": 77,
   "id": "8f63f9c3",
   "metadata": {},
   "outputs": [],
   "source": [
    "translate_udf = F.udf(lambda z: translate_birth_date(z),StringType())\n",
    "get_date_udf = F.udf(lambda z: z.split('-')[0],StringType())\n",
    "is_amb_udf = F.udf(lambda z: len(z.split('-'))==2,StringType())\n",
    "\n",
    "translate_state_udf = F.udf(lambda z: translate_state(z),StringType())\n",
    "\n",
    "# - Higienizar e homogenizar o formato da coluna `birthDate`\n",
    "# mesmo depois do tratamento, há o formato dd/mm/yyyy e mm/dd/yyyy que é ambiguo e ainda deve ser levado em conta:\n",
    "# a funcão de tradução pega todos os dados que tem para inferir se a data é ou não ambigua\n",
    "#    (por exemplo se o mes é maior que 12, e o mes ser escrito com letras (Jan,Feb,Mar....))\n",
    "df = df.withColumn('birth_date_trans', translate_udf(col('birthDate'))). \\\n",
    "    withColumn('birthDate', get_date_udf(col('birth_date_trans'))). \\\n",
    "    withColumn('birth_date_is_ambiguous', is_amb_udf(col('birth_date_trans'))). \\\n",
    "    drop(col('birth_date_trans'))\n",
    "\n",
    "# - Além desses pontos, existem outras tratamentos para homogenizar esse dataset. Aplique todos que conseguir.\n",
    "df = df.withColumn('state', translate_state_udf(col('state')))\n",
    "\n"
   ]
  },
  {
   "cell_type": "code",
   "execution_count": 79,
   "id": "45d92330",
   "metadata": {},
   "outputs": [
    {
     "name": "stderr",
     "output_type": "stream",
     "text": [
      "[Stage 196:=============================================>         (10 + 2) / 12]\r"
     ]
    },
    {
     "name": "stdout",
     "output_type": "stream",
     "text": [
      "100.0%\n"
     ]
    },
    {
     "name": "stderr",
     "output_type": "stream",
     "text": [
      "                                                                                \r"
     ]
    }
   ],
   "source": [
    "num_ambiguous = df.select(col('birth_date_is_ambiguous')).where(col('birth_date_is_ambiguous') == True).count()\n",
    "num_unambiguous = df.select(col('birth_date_is_ambiguous')).where(col('birth_date_is_ambiguous') == False).count()\n",
    "percentage_ambiguous = num_ambiguous / (num_ambiguous+num_unambiguous)\n",
    "# df_test = df_4.select(col('birthDate'), col('birth_date_is_ambiguous')).where(col('birth_date_is_ambiguous') == True).show()\n",
    "print(str(percentage_ambiguous*100)[0:5]+'%')"
   ]
  },
  {
   "cell_type": "code",
   "execution_count": 81,
   "id": "fc28432c",
   "metadata": {},
   "outputs": [
    {
     "name": "stderr",
     "output_type": "stream",
     "text": [
      "[Stage 201:====>                                                  (1 + 11) / 12]\r"
     ]
    },
    {
     "name": "stdout",
     "output_type": "stream",
     "text": [
      "+-----------+------------------+----------+\n",
      "|   document|              name|totalSpent|\n",
      "+-----------+------------------+----------+\n",
      "|18741688813|Sra. Rocio Martins|    1000.0|\n",
      "|82190864755| Euvanderson Costa|    1000.0|\n",
      "|58953147670|     Valeria Souza|    999.99|\n",
      "|61454551445|    Wandir Martins|    999.99|\n",
      "|17195012700|       Regina Melo|    999.99|\n",
      "+-----------+------------------+----------+\n",
      "\n"
     ]
    },
    {
     "name": "stderr",
     "output_type": "stream",
     "text": [
      "                                                                                \r"
     ]
    }
   ],
   "source": [
    "# Agregação dos dados:\n",
    "# - Quais são as 5 PF que mais gastaram (`totalSpent`)? \n",
    "phisicalPeopleWhoMostSpent = df. \\\n",
    "    where(col(\"type_person\")=='CPF' ). \\\n",
    "    filter(col(\"totalSpent\").isNotNull()). \\\n",
    "    orderBy(col(\"totalSpent\").desc()). \\\n",
    "    limit(5). \\\n",
    "    select(\"document\", \"name\",\"totalSpent\")\n",
    "phisicalPeopleWhoMostSpent.show()"
   ]
  },
  {
   "cell_type": "code",
   "execution_count": 82,
   "id": "4d6e220a",
   "metadata": {},
   "outputs": [
    {
     "name": "stderr",
     "output_type": "stream",
     "text": [
      "                                                                                \r"
     ]
    },
    {
     "name": "stdout",
     "output_type": "stream",
     "text": [
      "+-----+------------------+\n",
      "|state|          avgSpent|\n",
      "+-----+------------------+\n",
      "|   AC| 502.4784239392661|\n",
      "|   AL|500.51551942023275|\n",
      "|   AM| 498.7706629805852|\n",
      "|   AP|504.25913668879633|\n",
      "|   BA| 498.7741403086009|\n",
      "|   CE|499.30029952678933|\n",
      "|   DF|  499.107365725608|\n",
      "|   ES|501.63174747811667|\n",
      "|   GO|501.29249260830375|\n",
      "|   MA| 500.4352989228493|\n",
      "|   MG| 499.5320941292197|\n",
      "|   MS| 499.5097414101175|\n",
      "|   MT|500.26461002714404|\n",
      "|   PA|   499.23084708669|\n",
      "|   PB|499.20039918879166|\n",
      "|   PE|502.40577268067875|\n",
      "|   PI| 499.0765211522321|\n",
      "|   PR|500.64420030737665|\n",
      "|   RJ| 502.4385686988432|\n",
      "|   RN| 499.7560176991122|\n",
      "|   RO|498.23731784934995|\n",
      "|   RR|500.95639783978345|\n",
      "|   RS| 500.6309834299535|\n",
      "|   SC|501.34561245212547|\n",
      "|   SE|498.24009925154405|\n",
      "|   SP|498.69447971507907|\n",
      "|   TO|501.90156334817084|\n",
      "+-----+------------------+\n",
      "\n"
     ]
    }
   ],
   "source": [
    "# - Qual é o valor de gasto médio por estado (`state`)?\n",
    "average_by_state = df. \\\n",
    "    orderBy(\"state\"). \\\n",
    "    groupBy(\"state\"). \\\n",
    "    agg(avg(col(\"totalSpent\")).alias('avgSpent')). \\\n",
    "    select(\"state\", \"avgSpent\")\n",
    "average_by_state.show(50)"
   ]
  },
  {
   "cell_type": "code",
   "execution_count": 83,
   "id": "a7d24067",
   "metadata": {},
   "outputs": [
    {
     "name": "stderr",
     "output_type": "stream",
     "text": [
      "[Stage 212:==================================================>    (11 + 1) / 12]\r"
     ]
    },
    {
     "name": "stdout",
     "output_type": "stream",
     "text": [
      "+--------------+--------+---------------+\n",
      "|      document|avgSpent|        jobArea|\n",
      "+--------------+--------+---------------+\n",
      "|   01831172127|  219.35|(00) 00435-1738|\n",
      "|   10465354807|  799.86|(00) 01430-7785|\n",
      "|   51826552073|  128.48|(00) 01525-7613|\n",
      "|   83435277122|  125.28|(00) 01837-4277|\n",
      "|   27336851126|   340.8|(00) 01870-0192|\n",
      "|   18343070909|  124.98| (00) 0291-1564|\n",
      "|31217228563646|   81.83| (00) 0323-6916|\n",
      "|   48412552067|  833.41| (00) 0331-2091|\n",
      "|   12823148582|   205.1| (00) 0430-5931|\n",
      "|   38014766938|  990.49| (00) 0457-9237|\n",
      "|   62087526710|  464.85| (00) 0473-0021|\n",
      "|   66023765785|  155.48| (00) 0503-2738|\n",
      "|   89627807206|  665.54| (00) 0505-1554|\n",
      "|   82227207752|  650.87| (00) 0510-0098|\n",
      "|   91693841770|  416.92|(00) 05929-6139|\n",
      "|   16633537352|  758.21|(00) 06264-9122|\n",
      "|28511113600879|  445.32|(00) 06265-7749|\n",
      "|   18933779701|  523.35|(00) 06694-1196|\n",
      "|   69380278462|   78.99|(00) 07053-8152|\n",
      "|43585682015003|   161.6| (00) 0723-8012|\n",
      "|   89759777223|  540.08| (00) 0741-9285|\n",
      "|   46655228808|   99.38|(00) 07560-9748|\n",
      "|   38399367729|  842.07|(00) 08262-9796|\n",
      "|   34423209683|  705.49|(00) 08435-7779|\n",
      "|   84237731243|  214.19|(00) 08545-3696|\n",
      "|   22410266703|  161.81| (00) 0881-8402|\n",
      "|   42435721005|  755.92| (00) 0915-0049|\n",
      "|   43648954318|   451.9|(00) 09314-5480|\n",
      "|   37141894160|   81.85| (00) 0985-7758|\n",
      "|   45171891800|  132.46| (00) 0988-1884|\n",
      "|   84413127536|  922.83| (00) 1026-8206|\n",
      "|   99531261199|  101.94| (00) 1074-8200|\n",
      "|57851512050879|   501.5|(00) 10897-5094|\n",
      "|   09517916990|  235.03| (00) 1229-7174|\n",
      "|   21309798745|  395.52|(00) 12792-8596|\n",
      "|   27137673422|  959.77|(00) 13009-6991|\n",
      "|   10234292849|  806.91|(00) 13409-2674|\n",
      "|   32315101719|   741.5|(00) 13708-3263|\n",
      "|   26711252160|  116.05|(00) 14012-3734|\n",
      "|32858167327779|  427.01| (00) 1492-9450|\n",
      "|   87818512861|  190.43|(00) 15131-7517|\n",
      "|   59443027399|  758.36|(00) 15546-1087|\n",
      "|   20879917903|    null|(00) 15610-0969|\n",
      "|62622581368859|    5.73|(00) 15972-9008|\n",
      "|   35433328481|   50.14| (00) 1605-8170|\n",
      "|   11551155621|  928.63|(00) 16178-8032|\n",
      "|55338873244318|  999.55|(00) 16313-2131|\n",
      "|   55150559342|  395.98|(00) 16528-4569|\n",
      "|   11635271495|  256.86|(00) 16550-2338|\n",
      "|   26437554487|  718.42| (00) 1725-6371|\n",
      "+--------------+--------+---------------+\n",
      "only showing top 50 rows\n",
      "\n"
     ]
    },
    {
     "name": "stderr",
     "output_type": "stream",
     "text": [
      "                                                                                \r"
     ]
    }
   ],
   "source": [
    "# - Qual é o valor de gasto médio por `jobArea`?\n",
    "average_by_job_area = df. \\\n",
    "    orderBy(\"jobArea\"). \\\n",
    "    groupBy(\"jobArea\", \"document\"). \\\n",
    "    agg(avg(col(\"totalSpent\")).alias('avgSpent')). \\\n",
    "    select(\"document\", \"avgSpent\",\"jobArea\")\n",
    "average_by_job_area.show(50)\n",
    "    "
   ]
  },
  {
   "cell_type": "code",
   "execution_count": 85,
   "id": "1fe75103",
   "metadata": {},
   "outputs": [
    {
     "name": "stderr",
     "output_type": "stream",
     "text": [
      "[Stage 217:====>                                                  (1 + 11) / 12]\r"
     ]
    },
    {
     "name": "stdout",
     "output_type": "stream",
     "text": [
      "+-----------+--------------+----------+\n",
      "|   document|          name|totalSpent|\n",
      "+-----------+--------------+----------+\n",
      "|58868926210|Sr. Enio Souza|       0.0|\n",
      "+-----------+--------------+----------+\n",
      "\n"
     ]
    },
    {
     "name": "stderr",
     "output_type": "stream",
     "text": [
      "                                                                                \r"
     ]
    }
   ],
   "source": [
    "# - Qual é a PF que gastou menos (`totalSpent`)?\n",
    "phisicalPersonWhoLessSpent = df. \\\n",
    "    where(col(\"type_person\")=='CPF' ). \\\n",
    "    filter(col(\"totalSpent\").isNotNull()). \\\n",
    "    orderBy(col(\"totalSpent\")). \\\n",
    "    limit(1). \\\n",
    "    select(\"document\", \"name\",\"totalSpent\")\n",
    "phisicalPersonWhoLessSpent.show()"
   ]
  },
  {
   "cell_type": "code",
   "execution_count": 86,
   "id": "afe55da4",
   "metadata": {},
   "outputs": [
    {
     "name": "stderr",
     "output_type": "stream",
     "text": [
      "[Stage 225:================================>                       (7 + 5) / 12]\r"
     ]
    },
    {
     "name": "stdout",
     "output_type": "stream",
     "text": [
      "Repeated Documents: 430\n",
      "Repeated Names: 173513\n"
     ]
    },
    {
     "name": "stderr",
     "output_type": "stream",
     "text": [
      "                                                                                \r"
     ]
    }
   ],
   "source": [
    "# - Quantos nomes e documentos repetidos existem nesse dataset?\n",
    "repeated_documents = df. \\\n",
    "    orderBy(\"document\"). \\\n",
    "    groupBy(\"document\"). \\\n",
    "    count(). \\\n",
    "    filter(\"count > 1\"). \\\n",
    "    count()\n",
    "repeated_names = df. \\\n",
    "    orderBy(\"name\"). \\\n",
    "    groupBy(\"name\"). \\\n",
    "    count(). \\\n",
    "    filter(\"count > 1\"). \\\n",
    "    count()\n",
    "print(\"Repeated Documents:\", repeated_documents)\n",
    "print(\"Repeated Names:\", repeated_names)"
   ]
  },
  {
   "cell_type": "code",
   "execution_count": 87,
   "id": "a735727a",
   "metadata": {},
   "outputs": [
    {
     "data": {
      "text/plain": [
       "1000000"
      ]
     },
     "execution_count": 87,
     "metadata": {},
     "output_type": "execute_result"
    }
   ],
   "source": [
    "# - Quantas linhas existem nesse dataset?\n",
    "df.count()"
   ]
  },
  {
   "cell_type": "code",
   "execution_count": 89,
   "id": "0ef1748d",
   "metadata": {},
   "outputs": [
    {
     "name": "stderr",
     "output_type": "stream",
     "text": [
      "22/03/29 20:00:50 WARN MemoryManager: Total allocation exceeds 95.00% (1,020,054,720 bytes) of heap memory\n",
      "Scaling row group sizes to 95.00% for 8 writers\n",
      "22/03/29 20:00:50 WARN MemoryManager: Total allocation exceeds 95.00% (1,020,054,720 bytes) of heap memory\n",
      "Scaling row group sizes to 84.44% for 9 writers\n",
      "22/03/29 20:00:50 WARN MemoryManager: Total allocation exceeds 95.00% (1,020,054,720 bytes) of heap memory\n",
      "Scaling row group sizes to 76.00% for 10 writers\n",
      "22/03/29 20:00:50 WARN MemoryManager: Total allocation exceeds 95.00% (1,020,054,720 bytes) of heap memory\n",
      "Scaling row group sizes to 69.09% for 11 writers\n",
      "22/03/29 20:00:50 WARN MemoryManager: Total allocation exceeds 95.00% (1,020,054,720 bytes) of heap memory\n",
      "Scaling row group sizes to 63.33% for 12 writers\n",
      "22/03/29 20:00:51 WARN MemoryManager: Total allocation exceeds 95.00% (1,020,054,720 bytes) of heap memory\n",
      "Scaling row group sizes to 69.09% for 11 writers\n",
      "22/03/29 20:00:51 WARN MemoryManager: Total allocation exceeds 95.00% (1,020,054,720 bytes) of heap memory\n",
      "Scaling row group sizes to 76.00% for 10 writers\n",
      "22/03/29 20:00:51 WARN MemoryManager: Total allocation exceeds 95.00% (1,020,054,720 bytes) of heap memory\n",
      "Scaling row group sizes to 84.44% for 9 writers\n",
      "22/03/29 20:00:51 WARN MemoryManager: Total allocation exceeds 95.00% (1,020,054,720 bytes) of heap memory\n",
      "Scaling row group sizes to 95.00% for 8 writers\n",
      "22/03/29 20:00:51 WARN MemoryManager: Total allocation exceeds 95.00% (1,020,054,720 bytes) of heap memory\n",
      "Scaling row group sizes to 95.00% for 8 writers\n",
      "22/03/29 20:00:51 WARN MemoryManager: Total allocation exceeds 95.00% (1,020,054,720 bytes) of heap memory\n",
      "Scaling row group sizes to 84.44% for 9 writers\n",
      "22/03/29 20:00:51 WARN MemoryManager: Total allocation exceeds 95.00% (1,020,054,720 bytes) of heap memory\n",
      "Scaling row group sizes to 76.00% for 10 writers\n",
      "22/03/29 20:00:51 WARN MemoryManager: Total allocation exceeds 95.00% (1,020,054,720 bytes) of heap memory\n",
      "Scaling row group sizes to 69.09% for 11 writers\n",
      "22/03/29 20:00:51 WARN MemoryManager: Total allocation exceeds 95.00% (1,020,054,720 bytes) of heap memory\n",
      "Scaling row group sizes to 76.00% for 10 writers\n",
      "22/03/29 20:00:51 WARN MemoryManager: Total allocation exceeds 95.00% (1,020,054,720 bytes) of heap memory\n",
      "Scaling row group sizes to 69.09% for 11 writers\n",
      "22/03/29 20:00:52 WARN MemoryManager: Total allocation exceeds 95.00% (1,020,054,720 bytes) of heap memory\n",
      "Scaling row group sizes to 76.00% for 10 writers\n",
      "22/03/29 20:00:52 WARN MemoryManager: Total allocation exceeds 95.00% (1,020,054,720 bytes) of heap memory\n",
      "Scaling row group sizes to 84.44% for 9 writers\n",
      "22/03/29 20:00:52 WARN MemoryManager: Total allocation exceeds 95.00% (1,020,054,720 bytes) of heap memory\n",
      "Scaling row group sizes to 95.00% for 8 writers\n",
      "22/03/29 20:00:53 WARN MemoryManager: Total allocation exceeds 95.00% (1,020,054,720 bytes) of heap memory\n",
      "Scaling row group sizes to 95.00% for 8 writers\n",
      "22/03/29 20:00:54 WARN MemoryManager: Total allocation exceeds 95.00% (1,020,054,720 bytes) of heap memory\n",
      "Scaling row group sizes to 95.00% for 8 writers\n",
      "22/03/29 20:00:54 WARN MemoryManager: Total allocation exceeds 95.00% (1,020,054,720 bytes) of heap memory\n",
      "Scaling row group sizes to 95.00% for 8 writers\n",
      "22/03/29 20:00:54 WARN MemoryManager: Total allocation exceeds 95.00% (1,020,054,720 bytes) of heap memory\n",
      "Scaling row group sizes to 84.44% for 9 writers\n",
      "22/03/29 20:00:54 WARN MemoryManager: Total allocation exceeds 95.00% (1,020,054,720 bytes) of heap memory\n",
      "Scaling row group sizes to 76.00% for 10 writers\n",
      "22/03/29 20:00:54 WARN MemoryManager: Total allocation exceeds 95.00% (1,020,054,720 bytes) of heap memory\n",
      "Scaling row group sizes to 69.09% for 11 writers\n",
      "22/03/29 20:00:54 WARN MemoryManager: Total allocation exceeds 95.00% (1,020,054,720 bytes) of heap memory\n",
      "Scaling row group sizes to 76.00% for 10 writers\n",
      "22/03/29 20:00:54 WARN MemoryManager: Total allocation exceeds 95.00% (1,020,054,720 bytes) of heap memory\n",
      "Scaling row group sizes to 84.44% for 9 writers\n",
      "22/03/29 20:00:54 WARN MemoryManager: Total allocation exceeds 95.00% (1,020,054,720 bytes) of heap memory\n",
      "Scaling row group sizes to 76.00% for 10 writers\n",
      "22/03/29 20:00:54 WARN MemoryManager: Total allocation exceeds 95.00% (1,020,054,720 bytes) of heap memory\n",
      "Scaling row group sizes to 84.44% for 9 writers\n",
      "22/03/29 20:00:54 WARN MemoryManager: Total allocation exceeds 95.00% (1,020,054,720 bytes) of heap memory\n",
      "Scaling row group sizes to 95.00% for 8 writers\n",
      "22/03/29 20:00:55 WARN MemoryManager: Total allocation exceeds 95.00% (1,020,054,720 bytes) of heap memory\n",
      "Scaling row group sizes to 95.00% for 8 writers\n",
      "22/03/29 20:00:55 WARN MemoryManager: Total allocation exceeds 95.00% (1,020,054,720 bytes) of heap memory\n",
      "Scaling row group sizes to 84.44% for 9 writers\n",
      "22/03/29 20:00:55 WARN MemoryManager: Total allocation exceeds 95.00% (1,020,054,720 bytes) of heap memory\n",
      "Scaling row group sizes to 76.00% for 10 writers\n",
      "22/03/29 20:00:55 WARN MemoryManager: Total allocation exceeds 95.00% (1,020,054,720 bytes) of heap memory\n",
      "Scaling row group sizes to 69.09% for 11 writers\n",
      "22/03/29 20:00:55 WARN MemoryManager: Total allocation exceeds 95.00% (1,020,054,720 bytes) of heap memory\n",
      "Scaling row group sizes to 76.00% for 10 writers\n",
      "22/03/29 20:00:55 WARN MemoryManager: Total allocation exceeds 95.00% (1,020,054,720 bytes) of heap memory\n",
      "Scaling row group sizes to 84.44% for 9 writers\n",
      "22/03/29 20:00:55 WARN MemoryManager: Total allocation exceeds 95.00% (1,020,054,720 bytes) of heap memory\n",
      "Scaling row group sizes to 95.00% for 8 writers\n",
      "22/03/29 20:00:55 WARN MemoryManager: Total allocation exceeds 95.00% (1,020,054,720 bytes) of heap memory\n",
      "Scaling row group sizes to 95.00% for 8 writers\n",
      "22/03/29 20:00:55 WARN MemoryManager: Total allocation exceeds 95.00% (1,020,054,720 bytes) of heap memory\n",
      "Scaling row group sizes to 84.44% for 9 writers\n",
      "22/03/29 20:00:55 WARN MemoryManager: Total allocation exceeds 95.00% (1,020,054,720 bytes) of heap memory\n",
      "Scaling row group sizes to 95.00% for 8 writers\n",
      "22/03/29 20:00:55 WARN MemoryManager: Total allocation exceeds 95.00% (1,020,054,720 bytes) of heap memory\n",
      "Scaling row group sizes to 84.44% for 9 writers\n",
      "22/03/29 20:00:55 WARN MemoryManager: Total allocation exceeds 95.00% (1,020,054,720 bytes) of heap memory\n",
      "Scaling row group sizes to 76.00% for 10 writers\n",
      "22/03/29 20:00:55 WARN MemoryManager: Total allocation exceeds 95.00% (1,020,054,720 bytes) of heap memory\n",
      "Scaling row group sizes to 69.09% for 11 writers\n",
      "22/03/29 20:00:55 WARN MemoryManager: Total allocation exceeds 95.00% (1,020,054,720 bytes) of heap memory\n",
      "Scaling row group sizes to 76.00% for 10 writers\n",
      "22/03/29 20:00:55 WARN MemoryManager: Total allocation exceeds 95.00% (1,020,054,720 bytes) of heap memory\n",
      "Scaling row group sizes to 84.44% for 9 writers\n",
      "22/03/29 20:00:56 WARN MemoryManager: Total allocation exceeds 95.00% (1,020,054,720 bytes) of heap memory\n",
      "Scaling row group sizes to 95.00% for 8 writers\n",
      "22/03/29 20:00:56 WARN MemoryManager: Total allocation exceeds 95.00% (1,020,054,720 bytes) of heap memory\n",
      "Scaling row group sizes to 95.00% for 8 writers\n",
      "22/03/29 20:00:56 WARN MemoryManager: Total allocation exceeds 95.00% (1,020,054,720 bytes) of heap memory\n",
      "Scaling row group sizes to 95.00% for 8 writers\n",
      "22/03/29 20:00:56 WARN MemoryManager: Total allocation exceeds 95.00% (1,020,054,720 bytes) of heap memory\n",
      "Scaling row group sizes to 84.44% for 9 writers\n",
      "22/03/29 20:00:56 WARN MemoryManager: Total allocation exceeds 95.00% (1,020,054,720 bytes) of heap memory\n",
      "Scaling row group sizes to 76.00% for 10 writers\n",
      "22/03/29 20:00:56 WARN MemoryManager: Total allocation exceeds 95.00% (1,020,054,720 bytes) of heap memory\n",
      "Scaling row group sizes to 84.44% for 9 writers\n",
      "22/03/29 20:00:56 WARN MemoryManager: Total allocation exceeds 95.00% (1,020,054,720 bytes) of heap memory\n",
      "Scaling row group sizes to 76.00% for 10 writers\n",
      "22/03/29 20:00:56 WARN MemoryManager: Total allocation exceeds 95.00% (1,020,054,720 bytes) of heap memory\n",
      "Scaling row group sizes to 84.44% for 9 writers\n",
      "22/03/29 20:00:56 WARN MemoryManager: Total allocation exceeds 95.00% (1,020,054,720 bytes) of heap memory\n",
      "Scaling row group sizes to 95.00% for 8 writers\n",
      "22/03/29 20:00:56 WARN MemoryManager: Total allocation exceeds 95.00% (1,020,054,720 bytes) of heap memory\n",
      "Scaling row group sizes to 84.44% for 9 writers\n",
      "22/03/29 20:00:56 WARN MemoryManager: Total allocation exceeds 95.00% (1,020,054,720 bytes) of heap memory\n",
      "Scaling row group sizes to 95.00% for 8 writers\n",
      "22/03/29 20:00:57 WARN MemoryManager: Total allocation exceeds 95.00% (1,020,054,720 bytes) of heap memory\n",
      "Scaling row group sizes to 95.00% for 8 writers\n",
      "22/03/29 20:00:57 WARN MemoryManager: Total allocation exceeds 95.00% (1,020,054,720 bytes) of heap memory\n",
      "Scaling row group sizes to 84.44% for 9 writers\n",
      "22/03/29 20:00:57 WARN MemoryManager: Total allocation exceeds 95.00% (1,020,054,720 bytes) of heap memory\n",
      "Scaling row group sizes to 95.00% for 8 writers\n",
      "22/03/29 20:00:57 WARN MemoryManager: Total allocation exceeds 95.00% (1,020,054,720 bytes) of heap memory\n",
      "Scaling row group sizes to 84.44% for 9 writers\n",
      "22/03/29 20:00:57 WARN MemoryManager: Total allocation exceeds 95.00% (1,020,054,720 bytes) of heap memory\n",
      "Scaling row group sizes to 76.00% for 10 writers\n",
      "22/03/29 20:00:57 WARN MemoryManager: Total allocation exceeds 95.00% (1,020,054,720 bytes) of heap memory\n",
      "Scaling row group sizes to 84.44% for 9 writers\n",
      "22/03/29 20:00:57 WARN MemoryManager: Total allocation exceeds 95.00% (1,020,054,720 bytes) of heap memory\n",
      "Scaling row group sizes to 95.00% for 8 writers\n",
      "22/03/29 20:00:58 WARN MemoryManager: Total allocation exceeds 95.00% (1,020,054,720 bytes) of heap memory\n",
      "Scaling row group sizes to 95.00% for 8 writers\n",
      "22/03/29 20:00:58 WARN MemoryManager: Total allocation exceeds 95.00% (1,020,054,720 bytes) of heap memory\n",
      "Scaling row group sizes to 95.00% for 8 writers\n",
      "22/03/29 20:00:58 WARN MemoryManager: Total allocation exceeds 95.00% (1,020,054,720 bytes) of heap memory\n",
      "Scaling row group sizes to 84.44% for 9 writers\n",
      "22/03/29 20:00:58 WARN MemoryManager: Total allocation exceeds 95.00% (1,020,054,720 bytes) of heap memory\n",
      "Scaling row group sizes to 95.00% for 8 writers\n",
      "22/03/29 20:00:59 WARN MemoryManager: Total allocation exceeds 95.00% (1,020,054,720 bytes) of heap memory\n",
      "Scaling row group sizes to 95.00% for 8 writers\n",
      "22/03/29 20:00:59 WARN MemoryManager: Total allocation exceeds 95.00% (1,020,054,720 bytes) of heap memory\n",
      "Scaling row group sizes to 95.00% for 8 writers\n",
      "22/03/29 20:00:59 WARN MemoryManager: Total allocation exceeds 95.00% (1,020,054,720 bytes) of heap memory\n",
      "Scaling row group sizes to 95.00% for 8 writers\n",
      "22/03/29 20:00:59 WARN MemoryManager: Total allocation exceeds 95.00% (1,020,054,720 bytes) of heap memory\n",
      "Scaling row group sizes to 84.44% for 9 writers\n",
      "22/03/29 20:00:59 WARN MemoryManager: Total allocation exceeds 95.00% (1,020,054,720 bytes) of heap memory\n",
      "Scaling row group sizes to 95.00% for 8 writers\n",
      "22/03/29 20:00:59 WARN MemoryManager: Total allocation exceeds 95.00% (1,020,054,720 bytes) of heap memory\n",
      "Scaling row group sizes to 95.00% for 8 writers\n",
      "22/03/29 20:01:00 WARN MemoryManager: Total allocation exceeds 95.00% (1,020,054,720 bytes) of heap memory\n",
      "Scaling row group sizes to 95.00% for 8 writers\n",
      "22/03/29 20:01:00 WARN MemoryManager: Total allocation exceeds 95.00% (1,020,054,720 bytes) of heap memory\n",
      "Scaling row group sizes to 95.00% for 8 writers\n",
      "22/03/29 20:01:00 WARN MemoryManager: Total allocation exceeds 95.00% (1,020,054,720 bytes) of heap memory\n",
      "Scaling row group sizes to 84.44% for 9 writers\n",
      "22/03/29 20:01:00 WARN MemoryManager: Total allocation exceeds 95.00% (1,020,054,720 bytes) of heap memory\n",
      "Scaling row group sizes to 95.00% for 8 writers\n",
      "22/03/29 20:01:00 WARN MemoryManager: Total allocation exceeds 95.00% (1,020,054,720 bytes) of heap memory\n",
      "Scaling row group sizes to 84.44% for 9 writers\n",
      "22/03/29 20:01:00 WARN MemoryManager: Total allocation exceeds 95.00% (1,020,054,720 bytes) of heap memory\n",
      "Scaling row group sizes to 95.00% for 8 writers\n",
      "22/03/29 20:01:01 WARN MemoryManager: Total allocation exceeds 95.00% (1,020,054,720 bytes) of heap memory\n",
      "Scaling row group sizes to 95.00% for 8 writers\n",
      "22/03/29 20:01:01 WARN MemoryManager: Total allocation exceeds 95.00% (1,020,054,720 bytes) of heap memory\n",
      "Scaling row group sizes to 95.00% for 8 writers\n",
      "22/03/29 20:01:01 WARN MemoryManager: Total allocation exceeds 95.00% (1,020,054,720 bytes) of heap memory\n",
      "Scaling row group sizes to 95.00% for 8 writers\n",
      "22/03/29 20:01:02 WARN MemoryManager: Total allocation exceeds 95.00% (1,020,054,720 bytes) of heap memory\n",
      "Scaling row group sizes to 95.00% for 8 writers\n",
      "22/03/29 20:01:02 WARN MemoryManager: Total allocation exceeds 95.00% (1,020,054,720 bytes) of heap memory\n",
      "Scaling row group sizes to 84.44% for 9 writers\n",
      "22/03/29 20:01:02 WARN MemoryManager: Total allocation exceeds 95.00% (1,020,054,720 bytes) of heap memory\n",
      "Scaling row group sizes to 95.00% for 8 writers\n",
      "22/03/29 20:01:02 WARN MemoryManager: Total allocation exceeds 95.00% (1,020,054,720 bytes) of heap memory\n",
      "Scaling row group sizes to 95.00% for 8 writers\n",
      "22/03/29 20:01:02 WARN MemoryManager: Total allocation exceeds 95.00% (1,020,054,720 bytes) of heap memory\n",
      "Scaling row group sizes to 95.00% for 8 writers\n",
      "22/03/29 20:01:03 WARN MemoryManager: Total allocation exceeds 95.00% (1,020,054,720 bytes) of heap memory\n",
      "Scaling row group sizes to 95.00% for 8 writers\n",
      "22/03/29 20:01:03 WARN MemoryManager: Total allocation exceeds 95.00% (1,020,054,720 bytes) of heap memory\n",
      "Scaling row group sizes to 84.44% for 9 writers\n",
      "22/03/29 20:01:03 WARN MemoryManager: Total allocation exceeds 95.00% (1,020,054,720 bytes) of heap memory\n",
      "Scaling row group sizes to 76.00% for 10 writers\n",
      "22/03/29 20:01:03 WARN MemoryManager: Total allocation exceeds 95.00% (1,020,054,720 bytes) of heap memory\n",
      "Scaling row group sizes to 69.09% for 11 writers\n",
      "22/03/29 20:01:03 WARN MemoryManager: Total allocation exceeds 95.00% (1,020,054,720 bytes) of heap memory\n",
      "Scaling row group sizes to 76.00% for 10 writers\n",
      "22/03/29 20:01:03 WARN MemoryManager: Total allocation exceeds 95.00% (1,020,054,720 bytes) of heap memory\n",
      "Scaling row group sizes to 84.44% for 9 writers\n",
      "22/03/29 20:01:03 WARN MemoryManager: Total allocation exceeds 95.00% (1,020,054,720 bytes) of heap memory\n",
      "Scaling row group sizes to 95.00% for 8 writers\n",
      "22/03/29 20:01:03 WARN MemoryManager: Total allocation exceeds 95.00% (1,020,054,720 bytes) of heap memory\n",
      "Scaling row group sizes to 95.00% for 8 writers\n",
      "22/03/29 20:01:03 WARN MemoryManager: Total allocation exceeds 95.00% (1,020,054,720 bytes) of heap memory\n",
      "Scaling row group sizes to 84.44% for 9 writers\n",
      "22/03/29 20:01:03 WARN MemoryManager: Total allocation exceeds 95.00% (1,020,054,720 bytes) of heap memory\n",
      "Scaling row group sizes to 95.00% for 8 writers\n",
      "                                                                                \r"
     ]
    }
   ],
   "source": [
    "# ### Particionamento de dados tratados com as regras descritas em `DATA QUALITY`\n",
    "\n",
    "# - Particionar em arquivos PARQUET por estado (`state`)\n",
    "df.write.partitionBy(\"state\").mode(\"overwrite\").parquet(\"people_parquet\")"
   ]
  },
  {
   "cell_type": "code",
   "execution_count": null,
   "id": "d1e781ca",
   "metadata": {},
   "outputs": [],
   "source": [
    "# - Particionar em arquivos CSV por ano/mes/dia de nascimento (`birthDate`)\n",
    "'''\n",
    "df. \\\n",
    "    withColumn('day', substring('birthDate', 1,2)). \\\n",
    "    withColumn('month', substring('birthDate', 4,2)). \\\n",
    "    withColumn('year', substring('birthDate', 7,4)). \\\n",
    "    write. \\\n",
    "        partitionBy(\"year\", \"month\", \"day\"). \\\n",
    "        mode(\"overwrite\"). \\\n",
    "        format(\"csv\"). \\\n",
    "        save(\"people_csv\")\n",
    "\n",
    "'''\n",
    "df.show()"
   ]
  }
 ],
 "metadata": {
  "kernelspec": {
   "display_name": "Python 3 (ipykernel)",
   "language": "python",
   "name": "python3"
  },
  "language_info": {
   "codemirror_mode": {
    "name": "ipython",
    "version": 3
   },
   "file_extension": ".py",
   "mimetype": "text/x-python",
   "name": "python",
   "nbconvert_exporter": "python",
   "pygments_lexer": "ipython3",
   "version": "3.9.1"
  }
 },
 "nbformat": 4,
 "nbformat_minor": 5
}
